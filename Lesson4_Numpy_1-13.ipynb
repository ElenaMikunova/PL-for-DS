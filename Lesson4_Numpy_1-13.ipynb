{
 "cells": [
  {
   "cell_type": "code",
   "execution_count": 1,
   "id": "d5fa0644",
   "metadata": {},
   "outputs": [],
   "source": [
    "import numpy as np"
   ]
  },
  {
   "cell_type": "code",
   "execution_count": 2,
   "id": "6e6756cf",
   "metadata": {},
   "outputs": [
    {
     "data": {
      "text/plain": [
       "array([12, 13, 14, 15, 16, 17, 18, 19, 20, 21, 22, 23])"
      ]
     },
     "execution_count": 2,
     "metadata": {},
     "output_type": "execute_result"
    }
   ],
   "source": [
    "a = np.arange(12, 24, 1)\n",
    "a"
   ]
  },
  {
   "cell_type": "code",
   "execution_count": 3,
   "id": "ca8cea99",
   "metadata": {},
   "outputs": [
    {
     "data": {
      "text/plain": [
       "(array([[12, 13, 14, 15],\n",
       "        [16, 17, 18, 19],\n",
       "        [20, 21, 22, 23]]),\n",
       " array([[12, 13, 14],\n",
       "        [15, 16, 17],\n",
       "        [18, 19, 20],\n",
       "        [21, 22, 23]]),\n",
       " array([[12, 13, 14, 15, 16, 17],\n",
       "        [18, 19, 20, 21, 22, 23]]),\n",
       " array([[12, 13],\n",
       "        [14, 15],\n",
       "        [16, 17],\n",
       "        [18, 19],\n",
       "        [20, 21],\n",
       "        [22, 23]]),\n",
       " array([[12],\n",
       "        [13],\n",
       "        [14],\n",
       "        [15],\n",
       "        [16],\n",
       "        [17],\n",
       "        [18],\n",
       "        [19],\n",
       "        [20],\n",
       "        [21],\n",
       "        [22],\n",
       "        [23]]))"
      ]
     },
     "execution_count": 3,
     "metadata": {},
     "output_type": "execute_result"
    }
   ],
   "source": [
    "a1 = a.reshape(3, 4)\n",
    "a2 = a.reshape(4, 3)\n",
    "a3 = a.reshape(2, 6)\n",
    "a4 = a.reshape(6, 2)\n",
    "a5 = a.reshape(12, 1)\n",
    "a1, a2, a3, a4, a5"
   ]
  },
  {
   "cell_type": "code",
   "execution_count": 4,
   "id": "e2f9a601",
   "metadata": {},
   "outputs": [
    {
     "data": {
      "text/plain": [
       "(array([[12, 13, 14, 15],\n",
       "        [16, 17, 18, 19],\n",
       "        [20, 21, 22, 23]]),\n",
       " array([[12, 13, 14],\n",
       "        [15, 16, 17],\n",
       "        [18, 19, 20],\n",
       "        [21, 22, 23]]),\n",
       " array([[12, 13, 14, 15, 16, 17],\n",
       "        [18, 19, 20, 21, 22, 23]]),\n",
       " array([[12, 13],\n",
       "        [14, 15],\n",
       "        [16, 17],\n",
       "        [18, 19],\n",
       "        [20, 21],\n",
       "        [22, 23]]),\n",
       " array([[12],\n",
       "        [13],\n",
       "        [14],\n",
       "        [15],\n",
       "        [16],\n",
       "        [17],\n",
       "        [18],\n",
       "        [19],\n",
       "        [20],\n",
       "        [21],\n",
       "        [22],\n",
       "        [23]]))"
      ]
     },
     "execution_count": 4,
     "metadata": {},
     "output_type": "execute_result"
    }
   ],
   "source": [
    "a1 = a.reshape(3, -1)\n",
    "a2 = a.reshape(4, -1)\n",
    "a3 = a.reshape(2, -1)\n",
    "a4 = a.reshape(-1, 2)\n",
    "a5 = a.reshape(-1, 1)\n",
    "a1, a2, a3, a4, a5"
   ]
  },
  {
   "cell_type": "code",
   "execution_count": 5,
   "id": "98cf61f3",
   "metadata": {},
   "outputs": [
    {
     "name": "stdout",
     "output_type": "stream",
     "text": [
      "Массив не одномерный, его размерность: 2\n"
     ]
    }
   ],
   "source": [
    "print(\"Массив не одномерный, его размерность:\", a5.reshape(-1, 1).ndim)"
   ]
  },
  {
   "cell_type": "code",
   "execution_count": 6,
   "id": "430ab784",
   "metadata": {},
   "outputs": [
    {
     "data": {
      "text/plain": [
       "(array([[-0.96566862, -1.90599138, -2.10335712, -0.20843975],\n",
       "        [ 0.3560042 ,  0.86186614,  0.5108974 ,  0.29325896],\n",
       "        [ 1.9482749 ,  1.32066032,  1.5027229 ,  0.07175351]]),\n",
       " 12)"
      ]
     },
     "execution_count": 6,
     "metadata": {},
     "output_type": "execute_result"
    }
   ],
   "source": [
    "b = np.random.randn(3, 4)\n",
    "b, b.size"
   ]
  },
  {
   "cell_type": "code",
   "execution_count": 7,
   "id": "f2004e1c",
   "metadata": {},
   "outputs": [
    {
     "data": {
      "text/plain": [
       "(array([-0.96566862, -1.90599138, -2.10335712, -0.20843975,  0.3560042 ,\n",
       "         0.86186614,  0.5108974 ,  0.29325896,  1.9482749 ,  1.32066032,\n",
       "         1.5027229 ,  0.07175351]),\n",
       " 12,\n",
       " 1)"
      ]
     },
     "execution_count": 7,
     "metadata": {},
     "output_type": "execute_result"
    }
   ],
   "source": [
    "b1 = b.flatten()\n",
    "b1, b1.size, b1.ndim"
   ]
  },
  {
   "cell_type": "code",
   "execution_count": 8,
   "id": "98e312be",
   "metadata": {},
   "outputs": [
    {
     "name": "stdout",
     "output_type": "stream",
     "text": [
      "[20 18 16 14 12 10  8  6  4  2], [[20 18 16 14 12 10  8  6  4  2]] \n",
      "Размерность массивов: 1, 2\n"
     ]
    }
   ],
   "source": [
    "a = np.arange(20, 0, -2)\n",
    "b = np.arange(20, 1, -2)\n",
    "b.resize(1, 10)\n",
    "print(f\"{a}, {b} \\nРазмерность массивов: {a.ndim}, {b.ndim}\")"
   ]
  },
  {
   "cell_type": "code",
   "execution_count": 9,
   "id": "e0c241b8",
   "metadata": {},
   "outputs": [
    {
     "data": {
      "text/plain": [
       "(array([[0., 0.],\n",
       "        [0., 0.]]),\n",
       " array([[1., 1.],\n",
       "        [1., 1.],\n",
       "        [1., 1.]]),\n",
       " array([[0., 0.],\n",
       "        [0., 0.],\n",
       "        [1., 1.],\n",
       "        [1., 1.],\n",
       "        [1., 1.]]),\n",
       " 10)"
      ]
     },
     "execution_count": 9,
     "metadata": {},
     "output_type": "execute_result"
    }
   ],
   "source": [
    "a = np.zeros((2, 2))\n",
    "b = np.ones((3, 2))\n",
    "v = np.vstack((a, b))\n",
    "a, b, v, v.size"
   ]
  },
  {
   "cell_type": "code",
   "execution_count": 10,
   "id": "d178e27b",
   "metadata": {},
   "outputs": [
    {
     "data": {
      "text/plain": [
       "array([[ 0,  1,  2],\n",
       "       [ 3,  4,  5],\n",
       "       [ 6,  7,  8],\n",
       "       [ 9, 10, 11]])"
      ]
     },
     "execution_count": 10,
     "metadata": {},
     "output_type": "execute_result"
    }
   ],
   "source": [
    "a = np.arange(0, 12, 1)\n",
    "A = np.reshape(a, (4, 3))\n",
    "A"
   ]
  },
  {
   "cell_type": "code",
   "execution_count": 11,
   "id": "04cabec1",
   "metadata": {},
   "outputs": [
    {
     "data": {
      "text/plain": [
       "array([[ 0,  3,  6,  9],\n",
       "       [ 1,  4,  7, 10],\n",
       "       [ 2,  5,  8, 11]])"
      ]
     },
     "execution_count": 11,
     "metadata": {},
     "output_type": "execute_result"
    }
   ],
   "source": [
    "At = A.T\n",
    "At"
   ]
  },
  {
   "cell_type": "code",
   "execution_count": 12,
   "id": "8dc77690",
   "metadata": {},
   "outputs": [
    {
     "name": "stdout",
     "output_type": "stream",
     "text": [
      "[[  5  14  23  32]\n",
      " [ 14  50  86 122]\n",
      " [ 23  86 149 212]\n",
      " [ 32 122 212 302]]\n",
      "Размер матрицы B: 16\n",
      "Невозможно посчитать обратную матрицу, так как определитель матрицы B = 0.0\n"
     ]
    }
   ],
   "source": [
    "B = A.dot(At)\n",
    "print(f\"{B}\\nРазмер матрицы B: {B.size}\\nНевозможно посчитать обратную матрицу, так как определитель матрицы B = {np.linalg.det(B)}\")"
   ]
  },
  {
   "cell_type": "code",
   "execution_count": 13,
   "id": "1a8138e8",
   "metadata": {},
   "outputs": [
    {
     "name": "stdout",
     "output_type": "stream",
     "text": [
      "0.3745401188473625\n",
      "0.3745401188473625\n"
     ]
    }
   ],
   "source": [
    "np.random.seed(42)\n",
    "print(np.random.random())\n",
    "np.random.seed(42)\n",
    "print(np.random.random())"
   ]
  },
  {
   "cell_type": "code",
   "execution_count": 14,
   "id": "c2dafde5",
   "metadata": {},
   "outputs": [
    {
     "data": {
      "text/plain": [
       "array([12, 14, 10,  7, 12,  4,  6,  9,  2,  6, 10, 10,  7,  4,  3,  7])"
      ]
     },
     "execution_count": 14,
     "metadata": {},
     "output_type": "execute_result"
    }
   ],
   "source": [
    "c = np.random.randint(0, 16, 16)\n",
    "c"
   ]
  },
  {
   "cell_type": "code",
   "execution_count": 15,
   "id": "0eeb39a5",
   "metadata": {},
   "outputs": [
    {
     "data": {
      "text/plain": [
       "array([[12, 14, 10,  7],\n",
       "       [12,  4,  6,  9],\n",
       "       [ 2,  6, 10, 10],\n",
       "       [ 7,  4,  3,  7]])"
      ]
     },
     "execution_count": 15,
     "metadata": {},
     "output_type": "execute_result"
    }
   ],
   "source": [
    "C = np.reshape(c, (4, 4))\n",
    "C"
   ]
  },
  {
   "cell_type": "code",
   "execution_count": 16,
   "id": "dd842dee",
   "metadata": {},
   "outputs": [
    {
     "data": {
      "text/plain": [
       "array([[125, 154, 123, 102],\n",
       "       [134,  90, 146, 212],\n",
       "       [ 43, 146, 249, 312],\n",
       "       [102, 162, 242, 372]])"
      ]
     },
     "execution_count": 16,
     "metadata": {},
     "output_type": "execute_result"
    }
   ],
   "source": [
    "D = C * 10 + B\n",
    "D"
   ]
  },
  {
   "cell_type": "code",
   "execution_count": 17,
   "id": "83b3b8d5",
   "metadata": {},
   "outputs": [
    {
     "name": "stdout",
     "output_type": "stream",
     "text": [
      "Определитель: -149097600.0\n",
      "Ранг: 4\n",
      "[[ 0.0004711   0.0111539  -0.00253901 -0.00435621]\n",
      " [ 0.00957225 -0.01715762 -0.00876527  0.01450486]\n",
      " [-0.00167085  0.01408514  0.02130578 -0.02543824]\n",
      " [-0.00321078 -0.00474937 -0.0093469   0.01411451]]\n"
     ]
    }
   ],
   "source": [
    "D_inv = np.linalg.inv(D)\n",
    "print(f\"Определитель: {np.linalg.det(D)}\\nРанг: {np.linalg.matrix_rank(D)}\\n{D_inv}\")"
   ]
  },
  {
   "cell_type": "code",
   "execution_count": 18,
   "id": "b20b5a02",
   "metadata": {},
   "outputs": [
    {
     "data": {
      "text/plain": [
       "array([[1., 1., 0., 0.],\n",
       "       [1., 0., 0., 1.],\n",
       "       [0., 1., 1., 0.],\n",
       "       [0., 0., 0., 1.]])"
      ]
     },
     "execution_count": 18,
     "metadata": {},
     "output_type": "execute_result"
    }
   ],
   "source": [
    "D_inv[D_inv < 0] = 0\n",
    "D_inv[D_inv > 0] = 1\n",
    "D_inv"
   ]
  },
  {
   "cell_type": "code",
   "execution_count": 19,
   "id": "12bd8388",
   "metadata": {},
   "outputs": [
    {
     "data": {
      "text/plain": [
       "(array([[  5,  14,  10,   7],\n",
       "        [ 14,   4,   6, 122],\n",
       "        [  2,  86, 149,  10],\n",
       "        [  7,   4,   3, 302]]),\n",
       " array([[  5,  14,  23,  32],\n",
       "        [ 14,  50,  86, 122],\n",
       "        [ 23,  86, 149, 212],\n",
       "        [ 32, 122, 212, 302]]),\n",
       " array([[12, 14, 10,  7],\n",
       "        [12,  4,  6,  9],\n",
       "        [ 2,  6, 10, 10],\n",
       "        [ 7,  4,  3,  7]]))"
      ]
     },
     "execution_count": 19,
     "metadata": {},
     "output_type": "execute_result"
    }
   ],
   "source": [
    "E = np.where(D_inv, B, C)\n",
    "E, B, C"
   ]
  }
 ],
 "metadata": {
  "kernelspec": {
   "display_name": "Python 3",
   "language": "python",
   "name": "python3"
  },
  "language_info": {
   "codemirror_mode": {
    "name": "ipython",
    "version": 3
   },
   "file_extension": ".py",
   "mimetype": "text/x-python",
   "name": "python",
   "nbconvert_exporter": "python",
   "pygments_lexer": "ipython3",
   "version": "3.8.8"
  }
 },
 "nbformat": 4,
 "nbformat_minor": 5
}
